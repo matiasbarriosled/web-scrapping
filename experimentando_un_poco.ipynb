{
 "cells": [
  {
   "cell_type": "code",
   "execution_count": 14,
   "metadata": {},
   "outputs": [
    {
     "name": "stdout",
     "output_type": "stream",
     "text": [
      "Requirement already satisfied: pandas in ./env/lib/python3.8/site-packages (2.0.3)\n",
      "Requirement already satisfied: tzdata>=2022.1 in ./env/lib/python3.8/site-packages (from pandas) (2024.1)\n",
      "Requirement already satisfied: python-dateutil>=2.8.2 in ./env/lib/python3.8/site-packages (from pandas) (2.9.0.post0)\n",
      "Requirement already satisfied: pytz>=2020.1 in ./env/lib/python3.8/site-packages (from pandas) (2024.1)\n",
      "Requirement already satisfied: numpy>=1.20.3; python_version < \"3.10\" in ./env/lib/python3.8/site-packages (from pandas) (1.24.4)\n",
      "Requirement already satisfied: six>=1.5 in ./env/lib/python3.8/site-packages (from python-dateutil>=2.8.2->pandas) (1.16.0)\n"
     ]
    }
   ],
   "source": [
    "!pip install pandas"
   ]
  },
  {
   "cell_type": "code",
   "execution_count": 15,
   "metadata": {},
   "outputs": [],
   "source": [
    "import pandas as pd\n",
    "from selenium import webdriver\n",
    "from selenium.webdriver.common.by import By\n",
    "\n",
    "def create_webdriver():\n",
    "    return webdriver.Firefox()"
   ]
  },
  {
   "cell_type": "code",
   "execution_count": 48,
   "metadata": {},
   "outputs": [],
   "source": [
    "browser = create_webdriver()\n",
    "browser.get(\"https://www.selenium.dev/selenium/web/web-form.html\")\n",
    "browser.implicitly_wait(1)\n",
    "tags = browser.find_elements(By.CSS_SELECTOR, \"label .form-label\")\n",
    "boton = browser.find_element(By.CSS_SELECTOR, \"button\")\n",
    "text_box = browser.find_element(By.NAME, \"my-text\")\n",
    "\n",
    "element = browser.find_elements(By.TAG_NAME, \"label\")\n",
    "\n",
    "text_box.send_keys(\"Selenium\")\n",
    "#boton.click()\n",
    "\n",
    "#projects = browser.find_elements(By.CLASS_NAME,\"h3 lh-condensed\")"
   ]
  },
  {
   "cell_type": "code",
   "execution_count": 49,
   "metadata": {},
   "outputs": [
    {
     "name": "stdout",
     "output_type": "stream",
     "text": [
      "[<selenium.webdriver.remote.webelement.WebElement (session=\"00171a27-a4aa-496d-905e-f0898321bf77\", element=\"b4655b28-7f85-4065-9afe-27e149f5e26c\")>, <selenium.webdriver.remote.webelement.WebElement (session=\"00171a27-a4aa-496d-905e-f0898321bf77\", element=\"4c2d12bb-b784-4be5-997e-7a69d4bc5181\")>, <selenium.webdriver.remote.webelement.WebElement (session=\"00171a27-a4aa-496d-905e-f0898321bf77\", element=\"359b6df7-68da-40c7-ba07-9544db6dc422\")>, <selenium.webdriver.remote.webelement.WebElement (session=\"00171a27-a4aa-496d-905e-f0898321bf77\", element=\"5d15abca-35a7-4aae-ac66-279ea3d00e9c\")>, <selenium.webdriver.remote.webelement.WebElement (session=\"00171a27-a4aa-496d-905e-f0898321bf77\", element=\"b4992236-f95b-4269-acb7-70b6a6f7ee6b\")>, <selenium.webdriver.remote.webelement.WebElement (session=\"00171a27-a4aa-496d-905e-f0898321bf77\", element=\"94f5cc96-85a8-4be3-bff3-0f95404a7b5c\")>, <selenium.webdriver.remote.webelement.WebElement (session=\"00171a27-a4aa-496d-905e-f0898321bf77\", element=\"8c76f679-064f-4238-894d-eba534478b1a\")>, <selenium.webdriver.remote.webelement.WebElement (session=\"00171a27-a4aa-496d-905e-f0898321bf77\", element=\"d2088817-f48e-42a9-b840-05daaa638eb8\")>, <selenium.webdriver.remote.webelement.WebElement (session=\"00171a27-a4aa-496d-905e-f0898321bf77\", element=\"d8121981-a6be-4694-9dbe-2c19272c0ee6\")>, <selenium.webdriver.remote.webelement.WebElement (session=\"00171a27-a4aa-496d-905e-f0898321bf77\", element=\"b770e1d1-3393-43bb-ac72-589e62112a22\")>, <selenium.webdriver.remote.webelement.WebElement (session=\"00171a27-a4aa-496d-905e-f0898321bf77\", element=\"d94fe7ac-9c5f-46c4-8d97-3db1e62f677b\")>, <selenium.webdriver.remote.webelement.WebElement (session=\"00171a27-a4aa-496d-905e-f0898321bf77\", element=\"dc71bc26-5261-499a-be50-b9c7d57e5b22\")>, <selenium.webdriver.remote.webelement.WebElement (session=\"00171a27-a4aa-496d-905e-f0898321bf77\", element=\"e8815f16-9d76-4123-8c47-9cd41690556b\")>, <selenium.webdriver.remote.webelement.WebElement (session=\"00171a27-a4aa-496d-905e-f0898321bf77\", element=\"efbd8cea-f816-45f6-ab82-b49c06e75dcc\")>, <selenium.webdriver.remote.webelement.WebElement (session=\"00171a27-a4aa-496d-905e-f0898321bf77\", element=\"d30af12f-a986-4964-b5a9-105a461a4311\")>]\n",
      "Text input\n",
      "Password\n",
      "Textarea\n",
      "Disabled input\n",
      "Readonly input\n",
      "Dropdown (select)\n",
      "Open this select menu\n",
      "One\n",
      "Two\n",
      "Three\n",
      "Dropdown (datalist)\n",
      "File input\n",
      "Checked checkbox\n",
      "Default checkbox\n",
      "Checked radio\n",
      "Default radio\n",
      "Color picker\n",
      "Date picker\n",
      "Example range\n"
     ]
    }
   ],
   "source": [
    "print(element)\n",
    "for e in element:\n",
    "    print(e.text)"
   ]
  },
  {
   "cell_type": "code",
   "execution_count": 50,
   "metadata": {},
   "outputs": [
    {
     "name": "stdout",
     "output_type": "stream",
     "text": [
      "Buscar\n"
     ]
    }
   ],
   "source": [
    "from selenium import webdriver\n",
    "from selenium.webdriver.common.by import By\n",
    "driver = webdriver.Firefox()\n",
    "driver.get(\"https://www.google.com\")\n",
    "driver.find_element(By.CSS_SELECTOR, '[name=\"q\"]').send_keys(\"webElement\")\n",
    " # Get attribute of current active element\n",
    "attr = driver.switch_to.active_element.get_attribute(\"title\")\n",
    "print(attr)"
   ]
  },
  {
   "cell_type": "code",
   "execution_count": 5,
   "metadata": {},
   "outputs": [
    {
     "name": "stdout",
     "output_type": "stream",
     "text": [
      "apache / spark\n",
      "apache / hadoop\n",
      "jbhuang0604 / awesome-computer-vision\n",
      "GSA / data\n",
      "GoogleTrends / data\n",
      "nationalparkservice / data\n",
      "fivethirtyeight / data\n",
      "beamandrew / medical-data\n",
      "src-d / awesome-machine-learning-on-source-code\n",
      "igrigorik / decisiontree\n",
      "keon / awesome-nlp\n",
      "openai / gym\n",
      "aikorea / awesome-rl\n",
      "umutisik / Eigentechno\n",
      "jpmckinney / tf-idf-similarity\n",
      "scikit-learn-contrib / lightning\n",
      "gwding / draw_convnet\n",
      "scikit-learn / scikit-learn\n",
      "tensorflow / tensorflow\n",
      "activeloopai / deeplake\n"
     ]
    }
   ],
   "source": [
    "from selenium import webdriver\n",
    "from selenium.webdriver.common.by import By\n",
    "\n",
    "driver = webdriver.Firefox()\n",
    "driver.get(\"https://github.com/collections/machine-learning\")\n",
    "\n",
    "# Find all elements with the tag name \"h1\"\n",
    "h1_elements = driver.find_elements(By.XPATH, \"//h1[@class='h3 lh-condensed']\")\n",
    "\n",
    "# Access individual elements and their attributes\n",
    "for h1 in h1_elements:\n",
    "    print(h1.text)  # Get the text content of the h1 tag"
   ]
  }
 ],
 "metadata": {
  "kernelspec": {
   "display_name": "env",
   "language": "python",
   "name": "python3"
  },
  "language_info": {
   "codemirror_mode": {
    "name": "ipython",
    "version": 3
   },
   "file_extension": ".py",
   "mimetype": "text/x-python",
   "name": "python",
   "nbconvert_exporter": "python",
   "pygments_lexer": "ipython3",
   "version": "3.8.10"
  }
 },
 "nbformat": 4,
 "nbformat_minor": 2
}
