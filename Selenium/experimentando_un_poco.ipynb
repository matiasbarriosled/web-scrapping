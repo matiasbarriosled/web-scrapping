{
 "cells": [
  {
   "cell_type": "markdown",
   "metadata": {},
   "source": [
    "# Tutoriales sacados desde Selenium.dev"
   ]
  },
  {
   "cell_type": "code",
   "execution_count": 2,
   "metadata": {},
   "outputs": [],
   "source": [
    "import pandas as pd\n",
    "from selenium import webdriver\n",
    "from selenium.webdriver.common.by import By\n",
    "\n",
    "def create_webdriver():\n",
    "    return webdriver.Firefox()"
   ]
  },
  {
   "cell_type": "code",
   "execution_count": 3,
   "metadata": {},
   "outputs": [
    {
     "name": "stdout",
     "output_type": "stream",
     "text": [
      "Text input\n",
      "Password\n",
      "Textarea\n",
      "Disabled input\n",
      "Readonly input\n",
      "Dropdown (select)\n",
      "Open this select menu\n",
      "One\n",
      "Two\n",
      "Three\n",
      "Dropdown (datalist)\n",
      "File input\n",
      "Checked checkbox\n",
      "Default checkbox\n",
      "Checked radio\n",
      "Default radio\n",
      "Color picker\n",
      "Date picker\n",
      "Example range\n"
     ]
    }
   ],
   "source": [
    "browser = create_webdriver()\n",
    "browser.get(\"https://www.selenium.dev/selenium/web/web-form.html\")\n",
    "browser.implicitly_wait(1)\n",
    "tags = browser.find_elements(By.CSS_SELECTOR, \"label .form-label\")\n",
    "boton = browser.find_element(By.CSS_SELECTOR, \"button\")\n",
    "text_box = browser.find_element(By.NAME, \"my-text\")\n",
    "\n",
    "element = browser.find_elements(By.TAG_NAME, \"label\")\n",
    "\n",
    "#ingresamos un texto en el text-box\n",
    "text_box.send_keys(\"Selenium\")\n",
    "\n",
    "for e in element:\n",
    "    print(e.text)\n",
    "\n",
    "#hacemos click sobre el boton hallado\n",
    "boton.click()\n",
    "\n",
    "browser.quit()"
   ]
  },
  {
   "cell_type": "markdown",
   "metadata": {},
   "source": [
    "---\n",
    "Obtenemos el atributo del elemento seleccionado/hallado"
   ]
  },
  {
   "cell_type": "code",
   "execution_count": 50,
   "metadata": {},
   "outputs": [
    {
     "name": "stdout",
     "output_type": "stream",
     "text": [
      "Buscar\n"
     ]
    }
   ],
   "source": [
    "from selenium import webdriver\n",
    "from selenium.webdriver.common.by import By\n",
    "\n",
    "driver = webdriver.Firefox()\n",
    "driver.get(\"https://www.google.com\")\n",
    "driver.find_element(By.CSS_SELECTOR, '[name=\"q\"]').send_keys(\"webElement\")\n",
    "\n",
    " #Con esta linea obtenemos el atributo 'title' desde el elemento llamado \"q\" en Google (q es el input de busqueda)\n",
    "attr = driver.switch_to.active_element.get_attribute(\"title\")\n",
    "print(attr)\n",
    "\n",
    "driver.quit()"
   ]
  }
 ],
 "metadata": {
  "kernelspec": {
   "display_name": "env",
   "language": "python",
   "name": "python3"
  },
  "language_info": {
   "codemirror_mode": {
    "name": "ipython",
    "version": 3
   },
   "file_extension": ".py",
   "mimetype": "text/x-python",
   "name": "python",
   "nbconvert_exporter": "python",
   "pygments_lexer": "ipython3",
   "version": "3.8.10"
  }
 },
 "nbformat": 4,
 "nbformat_minor": 2
}
