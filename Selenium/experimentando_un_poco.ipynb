{
 "cells": [
  {
   "cell_type": "markdown",
   "metadata": {},
   "source": [
    "# Tutoriales sacados desde Selenium.dev"
   ]
  },
  {
   "cell_type": "code",
   "execution_count": 2,
   "metadata": {},
   "outputs": [],
   "source": [
    "import pandas as pd\n",
    "from selenium import webdriver\n",
    "from selenium.webdriver.common.by import By\n",
    "\n",
    "def create_webdriver():\n",
    "    return webdriver.Firefox()"
   ]
  },
  {
   "cell_type": "code",
   "execution_count": 5,
   "metadata": {},
   "outputs": [
    {
     "name": "stdout",
     "output_type": "stream",
     "text": [
      "[<selenium.webdriver.remote.webelement.WebElement (session=\"07f7137a-3e48-4fff-8c0c-db91871e27da\", element=\"b7703168-2c86-4c0b-be0d-6dc02a16e63d\")>, <selenium.webdriver.remote.webelement.WebElement (session=\"07f7137a-3e48-4fff-8c0c-db91871e27da\", element=\"20c8366b-237a-4646-a888-32688d0d0401\")>, <selenium.webdriver.remote.webelement.WebElement (session=\"07f7137a-3e48-4fff-8c0c-db91871e27da\", element=\"90789d4d-b6c4-4425-921a-52e1a0095395\")>, <selenium.webdriver.remote.webelement.WebElement (session=\"07f7137a-3e48-4fff-8c0c-db91871e27da\", element=\"58c63b7b-e453-44ca-ba15-8de5e2ca4e80\")>, <selenium.webdriver.remote.webelement.WebElement (session=\"07f7137a-3e48-4fff-8c0c-db91871e27da\", element=\"5a7a92a3-590a-4167-b2cd-64232f4df385\")>, <selenium.webdriver.remote.webelement.WebElement (session=\"07f7137a-3e48-4fff-8c0c-db91871e27da\", element=\"bceca4e4-f125-4618-a892-0b409353ba7c\")>, <selenium.webdriver.remote.webelement.WebElement (session=\"07f7137a-3e48-4fff-8c0c-db91871e27da\", element=\"095c7869-d1fa-418b-acb2-564d8c0ae7b7\")>, <selenium.webdriver.remote.webelement.WebElement (session=\"07f7137a-3e48-4fff-8c0c-db91871e27da\", element=\"f93a47ca-a702-43b4-9747-a3ea11afe0cb\")>, <selenium.webdriver.remote.webelement.WebElement (session=\"07f7137a-3e48-4fff-8c0c-db91871e27da\", element=\"b9fa26ce-8435-4edc-a4f0-7bf75e816c97\")>, <selenium.webdriver.remote.webelement.WebElement (session=\"07f7137a-3e48-4fff-8c0c-db91871e27da\", element=\"58ef1ba5-f5e9-4847-9ff3-f5ee83438503\")>, <selenium.webdriver.remote.webelement.WebElement (session=\"07f7137a-3e48-4fff-8c0c-db91871e27da\", element=\"a8584d2d-a5ae-48b6-a1d1-75f22b67a12b\")>, <selenium.webdriver.remote.webelement.WebElement (session=\"07f7137a-3e48-4fff-8c0c-db91871e27da\", element=\"51f306be-5063-48b2-bd87-e65e3c52ed46\")>, <selenium.webdriver.remote.webelement.WebElement (session=\"07f7137a-3e48-4fff-8c0c-db91871e27da\", element=\"22272b03-6d8e-426a-b416-02f2838aa66c\")>, <selenium.webdriver.remote.webelement.WebElement (session=\"07f7137a-3e48-4fff-8c0c-db91871e27da\", element=\"d6325ea3-3622-4a9c-ab45-ad5f20300fbc\")>, <selenium.webdriver.remote.webelement.WebElement (session=\"07f7137a-3e48-4fff-8c0c-db91871e27da\", element=\"68a39ace-e0e7-4ce3-b37f-bdfed2b89f1c\")>]\n",
      "Text input\n",
      "Password\n",
      "Textarea\n",
      "Disabled input\n",
      "Readonly input\n",
      "Dropdown (select)\n",
      "Open this select menu\n",
      "One\n",
      "Two\n",
      "Three\n",
      "Dropdown (datalist)\n",
      "File input\n",
      "Checked checkbox\n",
      "Default checkbox\n",
      "Checked radio\n",
      "Default radio\n",
      "Color picker\n",
      "Date picker\n",
      "Example range\n"
     ]
    }
   ],
   "source": [
    "browser = create_webdriver()\n",
    "browser.get(\"https://www.selenium.dev/selenium/web/web-form.html\")\n",
    "browser.implicitly_wait(1)\n",
    "tags = browser.find_elements(By.CSS_SELECTOR, \"label .form-label\")\n",
    "boton = browser.find_element(By.CSS_SELECTOR, \"button\")\n",
    "text_box = browser.find_element(By.NAME, \"my-text\")\n",
    "\n",
    "element = browser.find_elements(By.TAG_NAME, \"label\")\n",
    "\n",
    "#ingresamos un texto en el text-box\n",
    "text_box.send_keys(\"Selenium\")\n",
    "\n",
    "print(element)\n",
    "for e in element:\n",
    "    print(e.text)\n",
    "\n",
    "#hacemos click sobre el boton hallado\n",
    "boton.click()\n",
    "\n",
    "browser.quit()"
   ]
  },
  {
   "cell_type": "markdown",
   "metadata": {},
   "source": [
    "---\n",
    "Obtenemos el atributo del elemento seleccionado/hallado"
   ]
  },
  {
   "cell_type": "code",
   "execution_count": 50,
   "metadata": {},
   "outputs": [
    {
     "name": "stdout",
     "output_type": "stream",
     "text": [
      "Buscar\n"
     ]
    }
   ],
   "source": [
    "from selenium import webdriver\n",
    "from selenium.webdriver.common.by import By\n",
    "\n",
    "driver = webdriver.Firefox()\n",
    "driver.get(\"https://www.google.com\")\n",
    "driver.find_element(By.CSS_SELECTOR, '[name=\"q\"]').send_keys(\"webElement\")\n",
    "\n",
    " #Con esta linea obtenemos el atributo 'title' desde el elemento llamado \"q\" en Google (q es el input de busqueda)\n",
    "attr = driver.switch_to.active_element.get_attribute(\"title\")\n",
    "print(attr)\n",
    "\n",
    "driver.quit()"
   ]
  }
 ],
 "metadata": {
  "kernelspec": {
   "display_name": "env",
   "language": "python",
   "name": "python3"
  },
  "language_info": {
   "codemirror_mode": {
    "name": "ipython",
    "version": 3
   },
   "file_extension": ".py",
   "mimetype": "text/x-python",
   "name": "python",
   "nbconvert_exporter": "python",
   "pygments_lexer": "ipython3",
   "version": "3.8.10"
  }
 },
 "nbformat": 4,
 "nbformat_minor": 2
}
