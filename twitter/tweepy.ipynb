{
 "cells": [
  {
   "cell_type": "code",
   "execution_count": 6,
   "metadata": {},
   "outputs": [
    {
     "name": "stdout",
     "output_type": "stream",
     "text": [
      "Requirement already up-to-date: tweepy in ./env/lib/python3.8/site-packages (4.14.0)\n",
      "Requirement already satisfied, skipping upgrade: requests<3,>=2.27.0 in ./env/lib/python3.8/site-packages (from tweepy) (2.32.3)\n",
      "Requirement already satisfied, skipping upgrade: oauthlib<4,>=3.2.0 in ./env/lib/python3.8/site-packages (from tweepy) (3.2.2)\n",
      "Requirement already satisfied, skipping upgrade: requests-oauthlib<2,>=1.2.0 in ./env/lib/python3.8/site-packages (from tweepy) (1.3.1)\n",
      "Requirement already satisfied, skipping upgrade: certifi>=2017.4.17 in ./env/lib/python3.8/site-packages (from requests<3,>=2.27.0->tweepy) (2024.6.2)\n",
      "Requirement already satisfied, skipping upgrade: idna<4,>=2.5 in ./env/lib/python3.8/site-packages (from requests<3,>=2.27.0->tweepy) (3.7)\n",
      "Requirement already satisfied, skipping upgrade: urllib3<3,>=1.21.1 in ./env/lib/python3.8/site-packages (from requests<3,>=2.27.0->tweepy) (2.2.2)\n",
      "Requirement already satisfied, skipping upgrade: charset-normalizer<4,>=2 in ./env/lib/python3.8/site-packages (from requests<3,>=2.27.0->tweepy) (3.3.2)\n"
     ]
    }
   ],
   "source": [
    "!pip install tweepy --upgrade"
   ]
  },
  {
   "cell_type": "code",
   "execution_count": 7,
   "metadata": {},
   "outputs": [],
   "source": [
    "import tweepy\n",
    "import json\n",
    "import warnings"
   ]
  },
  {
   "cell_type": "code",
   "execution_count": 8,
   "metadata": {},
   "outputs": [],
   "source": [
    "api_key = \"\"\n",
    "#user_id = \n",
    "#user_secret = \n",
    "api_secret = \"\"\n",
    "access_token = \"-\"\n",
    "access_secret = \"\"\n",
    "bearer_token = \"%%%%\""
   ]
  },
  {
   "cell_type": "code",
   "execution_count": 9,
   "metadata": {},
   "outputs": [],
   "source": [
    "client = tweepy.Client(bearer_token=bearer_token)\n",
    "#auth = tweepy.OAuth1UserHandler(api_key,api_secret,access_token,access_secret)\n",
    "#api = tweepy.API(auth)"
   ]
  },
  {
   "cell_type": "code",
   "execution_count": 10,
   "metadata": {},
   "outputs": [
    {
     "name": "stdout",
     "output_type": "stream",
     "text": [
      "Error al obtener los mensajes: 403 Forbidden\n",
      "When authenticating requests to the Twitter API v2 endpoints, you must use keys and tokens from a Twitter developer App that is attached to a Project. You can create a project via the developer portal.\n"
     ]
    }
   ],
   "source": [
    "def process_or_store(tweet):\n",
    "    print(json.dumps(tweet,indent=4))\n",
    "\n",
    "with warnings.catch_warnings():\n",
    "    warnings.simplefilter(\"ignore\")\n",
    "\n",
    "    try:\n",
    "        user_id = \"@matiasjoaquinb4\"\n",
    "        tweets = client.get_users_tweets(id=user_id, max_results=10)\n",
    "    \n",
    "        for tweet in tweets.data:\n",
    "            process_or_store(tweet)\n",
    "\n",
    "    except tweepy.TweepyException as e:\n",
    "        print(f\"Error al obtener los mensajes: {e}\")"
   ]
  }
 ],
 "metadata": {
  "kernelspec": {
   "display_name": "env",
   "language": "python",
   "name": "python3"
  },
  "language_info": {
   "codemirror_mode": {
    "name": "ipython",
    "version": 3
   },
   "file_extension": ".py",
   "mimetype": "text/x-python",
   "name": "python",
   "nbconvert_exporter": "python",
   "pygments_lexer": "ipython3",
   "version": "3.8.10"
  }
 },
 "nbformat": 4,
 "nbformat_minor": 2
}
